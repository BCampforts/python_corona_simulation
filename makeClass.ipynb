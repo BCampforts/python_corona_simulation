{
 "cells": [
  {
   "cell_type": "code",
   "execution_count": 14,
   "metadata": {},
   "outputs": [],
   "source": [
    "class Virus:\n",
    "    def __init__(self,name,infection_range,infection_chance):\n",
    "        self.name = name\n",
    "        self.infection_range = infection_range\n",
    "        self.infection_chance = infection_chance\n",
    "        \n",
    "    def documentSelf(self):\n",
    "        print('The name of the virus is :' + self.name)\n",
    "        print('The infection chance is :' + str(self.infection_chance))"
   ]
  },
  {
   "cell_type": "code",
   "execution_count": 17,
   "metadata": {},
   "outputs": [],
   "source": [
    "# v1=Virus()\n",
    "# v1.name =  'virus1'\n",
    "# v1.infection_range = 0.2\n",
    "# v1.infection_chance = 0.01\n",
    "\n",
    "# v2=Virus()\n",
    "# v2.name =  'SARS_COV_2'\n",
    "# v2.infection_range = 0.5\n",
    "# v2.infection_change = 0.02\n",
    "v1=Virus('virus1',0.2,0.01)\n",
    "# v2=Virus('SARS_COV_2',0.5,0.02)"
   ]
  },
  {
   "cell_type": "code",
   "execution_count": 18,
   "metadata": {},
   "outputs": [
    {
     "name": "stdout",
     "output_type": "stream",
     "text": [
      "The name of the virus is :virus1\n",
      "The infection chance is :0.01\n",
      "The name of the virus is :SARS_COV_2\n",
      "The infection chance is :0.02\n"
     ]
    }
   ],
   "source": [
    "v1.documentSelf()\n",
    "# v2.documentSelf()"
   ]
  },
  {
   "cell_type": "code",
   "execution_count": 19,
   "metadata": {},
   "outputs": [],
   "source": [
    "class LethalVirus(Virus):\n",
    "    def __init__(self,name,infection_range,infection_chance,mortality_rate):\n",
    "        self.name = name\n",
    "        self.infection_range = infection_range\n",
    "        self.infection_chance = infection_chance\n",
    "        self.mortality_rate=mortality_rate\n",
    "    def documentMortality(self):\n",
    "        print('The Mortality is :' + str(self.mortality_rate))     \n",
    "        "
   ]
  },
  {
   "cell_type": "code",
   "execution_count": 21,
   "metadata": {},
   "outputs": [],
   "source": [
    "v2=LethalVirus('SARS_COV_2',0.5,0.02, 0.01)"
   ]
  },
  {
   "cell_type": "code",
   "execution_count": 27,
   "metadata": {},
   "outputs": [
    {
     "name": "stdout",
     "output_type": "stream",
     "text": [
      "The Mortality is :0.01\n",
      "The name of the virus is :SARS_COV_2\n",
      "The infection chance is :0.02\n",
      "The name of the virus is :virus1\n",
      "The infection chance is :0.01\n"
     ]
    }
   ],
   "source": [
    "v2.documentMortality()\n",
    "v2.documentSelf()\n",
    "\n",
    "v1.documentSelf()\n",
    "# v1.documentMortality()"
   ]
  }
 ],
 "metadata": {
  "kernelspec": {
   "display_name": "Python 3",
   "language": "python",
   "name": "python3"
  },
  "language_info": {
   "codemirror_mode": {
    "name": "ipython",
    "version": 3
   },
   "file_extension": ".py",
   "mimetype": "text/x-python",
   "name": "python",
   "nbconvert_exporter": "python",
   "pygments_lexer": "ipython3",
   "version": "3.8.2"
  }
 },
 "nbformat": 4,
 "nbformat_minor": 4
}
